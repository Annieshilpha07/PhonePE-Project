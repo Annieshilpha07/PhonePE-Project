{
 "cells": [
  {
   "cell_type": "code",
   "execution_count": 1,
   "metadata": {},
   "outputs": [],
   "source": [
    "import os\n",
    "import json\n",
    "import pandas as pd\n",
    "import mysql.connector"
   ]
  },
  {
   "cell_type": "code",
   "execution_count": 8,
   "metadata": {},
   "outputs": [],
   "source": [
    "#github clone Added Already\n",
    "path1=\"C:/Users/Dell/Desktop/Python file/PhonePE Project/pulse/data/aggregated/transaction/country/india/state/\"\n",
    "Agg_state_list=os.listdir(path1)\n",
    "Agg_state_list\n",
    "\n",
    "col1={'State':[], 'Year':[],'Quarter':[],'Transaction_type':[], 'Transaction_count':[], 'Transaction_amount':[]}\n",
    "\n",
    "for i in Agg_state_list:\n",
    "    p_i=path1+i+\"/\"\n",
    "    Agg_yr=os.listdir(p_i)\n",
    "    for j in Agg_yr:\n",
    "        p_j=p_i+j+\"/\"\n",
    "        Agg_yr_list=os.listdir(p_j)\n",
    "        for k in Agg_yr_list:\n",
    "            p_k=p_j+k\n",
    "            Data=open(p_k,'r')\n",
    "            D=json.load(Data)\n",
    "            for z in D['data']['transactionData']:\n",
    "                Name=z['name']\n",
    "                count=z['paymentInstruments'][0]['count']\n",
    "                amount=z['paymentInstruments'][0]['amount']\n",
    "                col1['Transaction_type'].append(Name)\n",
    "                col1['Transaction_count'].append(count)\n",
    "                col1['Transaction_amount'].append(amount)\n",
    "                col1['State'].append(i)\n",
    "                col1['Year'].append(j)\n",
    "                col1['Quarter'].append(int(k.strip('.json')))\n",
    "#Succesfully created a dataframe\n",
    "Agg_Trans=pd.DataFrame(col1)\n",
    "\n",
    "Agg_Trans[\"State\"] = Agg_Trans[\"State\"].str.replace(\"andaman-&-nicobar-islands\",\"Andaman and Nicobar\")\n",
    "Agg_Trans[\"State\"] = Agg_Trans[\"State\"].str.replace(\"-\",\" \")\n",
    "Agg_Trans[\"State\"] = Agg_Trans[\"State\"].str.title()\n",
    "Agg_Trans[\"State\"] = Agg_Trans[\"State\"].str.replace(\"dadra-&-nagar-haveli-&-daman-&-diu\",\"Dadra and Nagar Haveli and Daman Diu\")\n"
   ]
  },
  {
   "cell_type": "code",
   "execution_count": null,
   "metadata": {},
   "outputs": [],
   "source": [
    "Agg_Trans"
   ]
  },
  {
   "cell_type": "code",
   "execution_count": 9,
   "metadata": {},
   "outputs": [],
   "source": [
    "#  2) AGGREGATE_USER\n",
    "\n",
    "path2= \"C:/Users/Dell/Desktop/Python file/PhonePE Project/pulse/data/aggregated/user/country/india/state/\"  #aggregate users path\n",
    "agg_user_list=os.listdir(path2)\n",
    "agg_user_list\n",
    "col2={'State':[],'Year':[],'Quarter':[],'Brand_Name':[],'Count':[],'Percentage':[]}\n",
    "\n",
    "for state in agg_user_list:\n",
    "    actual_state=path2 + \"/\"+state + \"/\"\n",
    "    agg_yr=os.listdir(actual_state)\n",
    "    for year in agg_yr:\n",
    "        actual_yr=actual_state +\"/\"+ year + \"/\"\n",
    "        agg_yr_list=os.listdir(actual_yr)\n",
    "        for file in agg_yr_list:\n",
    "            actual_file=actual_yr+file\n",
    "            Data=open(actual_file,'r')\n",
    "            D2=json.load(Data)\n",
    "            try:\n",
    "                for i in D2['data']['usersByDevice']:\n",
    "                    Brand_Name=i['brand']\n",
    "                    Count=i['count']\n",
    "                    percentage=i['percentage']\n",
    "                    col2['Brand_Name'].append(Brand_Name)\n",
    "                    col2['Count'].append(Count)\n",
    "                    col2['Percentage'].append(percentage)\n",
    "                    col2['State'].append(state)\n",
    "                    col2['Year'].append(year)\n",
    "                    col2['Quarter'].append(int(file.strip('.json')))\n",
    "            except:\n",
    "                pass\n",
    "\n",
    "aggre_user=pd.DataFrame(col2)\n",
    "\n",
    "# Correcting the column name to 'State' instead of 'States'\n",
    "aggre_user[\"State\"] = aggre_user[\"State\"].str.replace(\"andaman-&-nicobar-islands\",\"Andaman and Nicobar\")\n",
    "aggre_user[\"State\"] = aggre_user[\"State\"].str.replace(\"-\",\" \")\n",
    "aggre_user[\"State\"] = aggre_user[\"State\"].str.title()\n",
    "aggre_user[\"State\"] = aggre_user[\"State\"].str.replace(\"dadra-&-nagar-haveli-&-daman-&-diu\",\"Dadra and Nagar Haveli and Daman Diu\")\n"
   ]
  },
  {
   "cell_type": "code",
   "execution_count": null,
   "metadata": {},
   "outputs": [],
   "source": [
    "aggre_user"
   ]
  },
  {
   "cell_type": "code",
   "execution_count": 10,
   "metadata": {},
   "outputs": [],
   "source": [
    "#  3) MAP_TRANSACTION\n",
    "path3 =\"C:/Users/Dell/Desktop/Python file/PhonePE Project/pulse/data/map/transaction/hover/country/india/state/\" # Map Transaction Path\n",
    "map_state_list = os.listdir(path3)\n",
    "map_state_list\n",
    "\n",
    "col3 = {'State': [], 'Year': [], 'Quarter': [], 'Transaction_district': [], 'Transaction_count': [], 'Transaction_amount': []}\n",
    "\n",
    "for i in map_state_list:\n",
    "    p_i=path3+i+\"/\"\n",
    "    map_yr=os.listdir(p_i)\n",
    "    for j in map_yr:\n",
    "        p_j=p_i+j+\"/\"\n",
    "        map_yr_list=os.listdir(p_j)\n",
    "        for k in map_yr_list:\n",
    "            p_k=p_j+k\n",
    "            Data=open(p_k,'r')\n",
    "            D=json.load(Data)\n",
    "            for z in D['data']['hoverDataList']:\n",
    "                    name = z['name']\n",
    "                    ttype = z['metric'][0]['type']\n",
    "                    count = z['metric'][0]['count']\n",
    "                    amount = z['metric'][0]['amount']\n",
    "                    col3['Transaction_district'].append(name)\n",
    "                    col3['Transaction_count'].append(count)\n",
    "                    col3['Transaction_amount'].append(amount)\n",
    "                    col3['State'].append(i)\n",
    "                    col3['Year'].append(j)\n",
    "                    col3['Quarter'].append(int(k.strip('.json')))\n",
    "\n",
    "map_trans=pd.DataFrame(col3)\n",
    "\n",
    "map_trans['State']=map_trans['State'].str.replace(\"andaman-&-nicobar-islands\",\"Andaman and Nicobar\")\n",
    "map_trans['State']=map_trans['State'].str.replace(\"-\",\" \")\n",
    "map_trans['State']=map_trans['State'].str.title()\n",
    "map_trans['State']=map_trans['State'].str.replace(\"dadra-&-nagar-haveli-&-daman-&-diu\",\"Dadra and Nagar Haveli and Daman Diu\")\n"
   ]
  },
  {
   "cell_type": "code",
   "execution_count": null,
   "metadata": {},
   "outputs": [],
   "source": [
    "map_trans"
   ]
  },
  {
   "cell_type": "code",
   "execution_count": 11,
   "metadata": {},
   "outputs": [],
   "source": [
    "#  4) MAP_USER\n",
    "\n",
    "path4=\"C:/Users/Dell/Desktop/Python file/PhonePE Project/pulse/data/map/user/hover/country/india/state/\"\n",
    "mapuser_state_list = os.listdir(path4)\n",
    "mapuser_state_list\n",
    "\n",
    "col4 = {'State': [], 'Year': [], 'Quater': [], 'District': [],'Registered_user': [], 'App_opening': []}\n",
    "\n",
    "for i in mapuser_state_list:\n",
    "    p_i = path4+i+\"/\"\n",
    "    year = os.listdir(p_i)\n",
    "    for j in year:\n",
    "        p_j = p_i+j+\"/\"\n",
    "        file = os.listdir(p_j)\n",
    "        for k in file:\n",
    "            p_k = p_j+k\n",
    "            Data = open(p_k, 'r')\n",
    "            D = json.load(Data)\n",
    "            try:\n",
    "                for z in D['data'][\"hoverData\"]:\n",
    "                    district = z\n",
    "                    registered_user =  D['data'][\"hoverData\"][z][\"registeredUsers\"]\n",
    "                    app_opening = D['data'][\"hoverData\"][z][\"appOpens\"]\n",
    "                    col4['District'].append(district)\n",
    "                    col4['Registered_user'].append(registered_user)\n",
    "                    col4['App_opening'].append(app_opening)\n",
    "                    col4['State'].append(i)\n",
    "                    col4['Year'].append(j)\n",
    "                    col4['Quater'].append(int(k.strip('.json')))\n",
    "\n",
    "            except:\n",
    "                pass\n",
    "\n",
    "map_users = pd.DataFrame(col4)\n",
    "\n",
    "map_users['State']=map_users['State'].str.replace(\"andaman-&-nicobar-islands\",\"Andaman and Nicobar\")\n",
    "map_users['State']=map_users['State'].str.replace(\"-\",\" \")\n",
    "map_users['State']=map_users['State'].str.title()\n",
    "map_users['State']=map_users['State'].str.replace(\"dadra-&-nagar-haveli-&-daman-&-diu\",\"Dadra and Nagar Haveli and Daman Diu\")\n"
   ]
  },
  {
   "cell_type": "code",
   "execution_count": null,
   "metadata": {},
   "outputs": [],
   "source": [
    "map_users"
   ]
  },
  {
   "cell_type": "code",
   "execution_count": 12,
   "metadata": {},
   "outputs": [],
   "source": [
    "# 5) TOP_TRANSACTION \n",
    "path5=\"C:/Users/Dell/Desktop/Python file/PhonePE Project/pulse/data/top/transaction/country/india/state/\"\n",
    "top_trans_state_list = os.listdir(path5)\n",
    "top_trans_state_list\n",
    "\n",
    "col5 = {'State': [], 'Year': [], 'Quarter': [], 'Pincode': [], 'Transaction_count': [], 'Transaction_amount': []}\n",
    "\n",
    "for i in top_trans_state_list:\n",
    "    p_i=path5+i+\"/\"\n",
    "    top_trans_yr=os.listdir(p_i)\n",
    "    for j in top_trans_yr:\n",
    "        p_j=p_i+j+\"/\"\n",
    "        top_trans_yr_list=os.listdir(p_j)\n",
    "        for k in top_trans_yr_list:\n",
    "            p_k=p_j+k\n",
    "            Data=open(p_k,'r')\n",
    "            D=json.load(Data)\n",
    "            for z in D['data']['pincodes']:\n",
    "                name = z['entityName']\n",
    "                mtype = z['metric']['type']\n",
    "                count = z['metric']['count']\n",
    "                amount = z['metric']['amount']\n",
    "                col5['Pincode'].append(name)\n",
    "                col5['Transaction_count'].append(count)\n",
    "                col5['Transaction_amount'].append(amount)\n",
    "                col5['State'].append(i)\n",
    "                col5['Year'].append(j)\n",
    "                col5['Quarter'].append(int(k.strip('.json')))\n",
    "\n",
    "top_trans = pd.DataFrame(col5)\n",
    "\n",
    "top_trans['State']=top_trans['State'].str.replace(\"andaman-&-nicobar-islands\",\"Andaman and Nicobar\")\n",
    "top_trans['State']=top_trans['State'].str.replace(\"-\",\" \")\n",
    "top_trans['State']=top_trans['State'].str.title()\n",
    "top_trans['State']=top_trans['State'].str.replace(\"dadra-&-nagar-haveli-&-daman-&-diu\",\"Dadra and Nagar Haveli and Daman Diu\")\n"
   ]
  },
  {
   "cell_type": "code",
   "execution_count": null,
   "metadata": {},
   "outputs": [],
   "source": [
    "top_trans"
   ]
  },
  {
   "cell_type": "code",
   "execution_count": 13,
   "metadata": {},
   "outputs": [],
   "source": [
    "# 6) TOP_USERS \n",
    "path6=\"C:/Users/Dell/Desktop/Python file/PhonePE Project/pulse/data/top/user/country/india/state/\"\n",
    "top_users_state_list = os.listdir(path6)\n",
    "top_users_state_list\n",
    "\n",
    "col6  = {'State': [], 'Year': [], 'Quarter': [], 'registeredusers': [], 'Pincode': []}\n",
    "\n",
    "for i in top_users_state_list:\n",
    "    p_i=path6+i+\"/\"\n",
    "    top_users_yr=os.listdir(p_i)\n",
    "    for j in top_users_yr:\n",
    "        p_j=p_i+j+\"/\"\n",
    "        top_users_yr_list=os.listdir(p_j)\n",
    "        for k in top_users_yr_list:\n",
    "            p_k=p_j+k\n",
    "            Data=open(p_k,'r')\n",
    "            D=json.load(Data)\n",
    "            for z in D['data']['pincodes']:\n",
    "                name = z['name']\n",
    "                registeredusers = z['registeredUsers']\n",
    "                col6['Pincode'].append(name)\n",
    "                col6['registeredusers'].append(registeredusers)\n",
    "                col6['State'].append(i)\n",
    "                col6['Year'].append(j)\n",
    "                col6['Quarter'].append(int(k.strip('.json')))\n",
    "\n",
    "top_user= pd.DataFrame(col6)\n",
    "\n",
    "top_user['State']=top_user['State'].str.replace(\"andaman-&-nicobar-islands\",\"Andaman and Nicobar\")\n",
    "top_user['State']=top_user['State'].str.replace(\"-\",\" \")\n",
    "top_user['State']=top_user['State'].str.title()\n",
    "top_user['State']=top_user['State'].str.replace(\"dadra-&-nagar-haveli-&-daman-&-diu\",\"Dadra and Nagar Haveli and Daman Diu\")"
   ]
  },
  {
   "cell_type": "code",
   "execution_count": null,
   "metadata": {},
   "outputs": [],
   "source": [
    "top_user"
   ]
  },
  {
   "cell_type": "code",
   "execution_count": 14,
   "metadata": {},
   "outputs": [],
   "source": [
    "# Create CSV files\n",
    "Agg_Trans.to_csv('agg_trans.csv', index=False)\n",
    "aggre_user.to_csv('agg_user.csv', index=False)\n",
    "map_trans.to_csv('map_trans.csv', index=False)\n",
    "map_users.to_csv('map_user.csv', index=False)\n",
    "top_trans.to_csv('top_trans.csv', index=False)\n",
    "top_user.to_csv('top_user.csv', index=False)"
   ]
  },
  {
   "cell_type": "code",
   "execution_count": 2,
   "metadata": {},
   "outputs": [
    {
     "name": "stdout",
     "output_type": "stream",
     "text": [
      "<mysql.connector.connection_cext.CMySQLConnection object at 0x00000263867CE630>\n"
     ]
    }
   ],
   "source": [
    "# ----- MySQL Connection -----\n",
    "\n",
    "mydb = mysql.connector.connect( host=\"localhost\", user=\"root\", password=\"\")\n",
    "print(mydb)\n",
    "mycursor = mydb.cursor(buffered=True)"
   ]
  },
  {
   "cell_type": "code",
   "execution_count": 17,
   "metadata": {},
   "outputs": [],
   "source": [
    "#mycursor.execute('create database phonepe')\n",
    "# mycursor.execute('drop database phonepe')\n",
    "mycursor.execute('use phonepe')"
   ]
  },
  {
   "cell_type": "markdown",
   "metadata": {},
   "source": [
    "# Table create"
   ]
  },
  {
   "cell_type": "code",
   "execution_count": 18,
   "metadata": {},
   "outputs": [],
   "source": [
    "# Create and insert data into \"Aggregate Transaction\" Table\n",
    "mycursor.execute(\"CREATE TABLE IF NOT EXISTS aggregate_transaction (State VARCHAR(100), Year INT, Quarter INT, Transaction_type VARCHAR(100), Transaction_count INT, Transaction_amount INT)\")\n",
    "\n",
    "for i, row in Agg_Trans.iterrows():\n",
    "    sql = \"INSERT INTO aggregate_transaction VALUES (%s, %s, %s, %s, %s, %s)\"\n",
    "    mycursor.execute(sql, tuple(row))\n",
    "    mydb.commit()"
   ]
  },
  {
   "cell_type": "code",
   "execution_count": 24,
   "metadata": {},
   "outputs": [],
   "source": [
    "# Create and insert data into \"Aggregate User\" Table\n",
    "mycursor.execute(\"CREATE TABLE IF NOT EXISTS aggregate_user (State VARCHAR(100), Year INT, Quarter INT, Brand_Name VARCHAR(100), Count BIGINT, Percentage FLOAT)\")\n",
    "\n",
    "for i, row in aggre_user.iterrows():\n",
    "    sql = \"INSERT INTO aggregate_user VALUES (%s, %s, %s, %s, %s, %s)\"\n",
    "    mycursor.execute(sql, tuple(row))\n",
    "    mydb.commit()"
   ]
  },
  {
   "cell_type": "code",
   "execution_count": 19,
   "metadata": {},
   "outputs": [],
   "source": [
    "# Create and insert data into \"Map Transaction\" Table\n",
    "mycursor.execute(\"CREATE TABLE IF NOT EXISTS map_transaction (State VARCHAR(100), Year INT, Quarter INT, Transaction_district VARCHAR(100), Transaction_count BIGINT, Transaction_amount FLOAT)\")\n",
    "\n",
    "for i, row in map_trans.iterrows():\n",
    "    # Skip the index column if present\n",
    "    data = tuple(row.values)\n",
    "    sql = \"INSERT INTO map_transaction VALUES (%s, %s, %s, %s, %s, %s)\"\n",
    "    mycursor.execute(sql, data)\n",
    "    mydb.commit()"
   ]
  },
  {
   "cell_type": "code",
   "execution_count": 20,
   "metadata": {},
   "outputs": [],
   "source": [
    "# Create and insert data into \"Map User\" Table\n",
    "mycursor.execute(\"CREATE TABLE IF NOT EXISTS map_users (State VARCHAR(100), Year INT, Quarter INT, District VARCHAR(100), Registered_user BIGINT, App_opening BIGINT)\")\n",
    "\n",
    "for i, row in map_users.iterrows():\n",
    "    sql = \"INSERT INTO map_users VALUES (%s, %s, %s, %s, %s, %s)\"\n",
    "    mycursor.execute(sql, tuple(row))\n",
    "    mydb.commit()"
   ]
  },
  {
   "cell_type": "code",
   "execution_count": 27,
   "metadata": {},
   "outputs": [],
   "source": [
    "# Create and insert data into \"Top Transaction\" Table\n",
    "mycursor.execute(\"CREATE TABLE IF NOT EXISTS top_transaction (State VARCHAR(100), Year INT, Quarter INT, Pincode INT, Transaction_count BIGINT, Transaction_amount BIGINT)\")\n",
    "\n",
    "for i, row in top_trans.iterrows():\n",
    "    sql = \"INSERT INTO top_transaction VALUES (%s, %s, %s, %s, %s, %s)\"\n",
    "    mycursor.execute(sql, tuple(row))\n",
    "    mydb.commit()"
   ]
  },
  {
   "cell_type": "code",
   "execution_count": 29,
   "metadata": {},
   "outputs": [],
   "source": [
    "# Create and insert data into \"Top User\" Table\n",
    "mycursor.execute(\"CREATE TABLE IF NOT EXISTS top_users (State VARCHAR(100), Year INT, Quarter INT, registeredusers BIGINT, Pincode INT)\")\n",
    "\n",
    "for i, row in top_user.iterrows():\n",
    "    sql = \"INSERT INTO top_users VALUES (%s, %s, %s, %s, %s)\"\n",
    "    mycursor.execute(sql, tuple(row))\n",
    "    mydb.commit()"
   ]
  },
  {
   "cell_type": "code",
   "execution_count": null,
   "metadata": {},
   "outputs": [],
   "source": [
    "#List of table \n",
    "mycursor.execute(\"show tables\")\n",
    "mycursor.fetchall()"
   ]
  }
 ],
 "metadata": {
  "kernelspec": {
   "display_name": "Python 3",
   "language": "python",
   "name": "python3"
  },
  "language_info": {
   "codemirror_mode": {
    "name": "ipython",
    "version": 3
   },
   "file_extension": ".py",
   "mimetype": "text/x-python",
   "name": "python",
   "nbconvert_exporter": "python",
   "pygments_lexer": "ipython3",
   "version": "3.12.2"
  }
 },
 "nbformat": 4,
 "nbformat_minor": 2
}
